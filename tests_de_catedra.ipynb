{
 "cells": [
  {
   "cell_type": "markdown",
   "metadata": {},
   "source": [
    "## Tests de la catedra"
   ]
  },
  {
   "cell_type": "markdown",
   "metadata": {},
   "source": [
    "imports"
   ]
  },
  {
   "cell_type": "code",
   "execution_count": 1,
   "metadata": {},
   "outputs": [],
   "source": [
    "import numpy as np\n",
    "import math\n",
    "import unittest\n",
    "import subprocess as sub"
   ]
  },
  {
   "cell_type": "markdown",
   "metadata": {},
   "source": [
    "definiciones de funciones"
   ]
  },
  {
   "cell_type": "code",
   "execution_count": 2,
   "metadata": {},
   "outputs": [],
   "source": [
    "def correr_test (sourceFile, outputFile, method) :\n",
    "    sub.run([\"./build/tp1\", sourceFile, outputFile, method])\n",
    "\n",
    "    fileObj = open(outputFile, \"r\")\n",
    "    temperatures = fileObj.read().splitlines() #puts the file into an array\n",
    "    fileObj.close()\n",
    "\n",
    "    temperatures = np.asarray(list(map(float, temperatures))) # convertimos la lista de strings en un array de floats\n",
    "    \n",
    "    r = 0\n",
    "    while temperatures[r] > temperatures[r+1] : r=r+1\n",
    "    return temperatures\n",
    "\n",
    "def leer_resultados (resultFile) :\n",
    "    fileObj = open(resultFile, \"r\")\n",
    "    temperatures = fileObj.read().splitlines() #puts the file into an array\n",
    "    fileObj.close()\n",
    "\n",
    "    temperatures = np.asarray(list(map(float, temperatures)))\n",
    "    \n",
    "    return temperatures\n",
    "    \n"
   ]
  },
  {
   "cell_type": "code",
   "execution_count": 3,
   "metadata": {},
   "outputs": [
    {
     "name": "stdout",
     "output_type": "stream",
     "text": [
      "Cargando archivo tests_alu/test1.in\n",
      "OK\n"
     ]
    },
    {
     "name": "stderr",
     "output_type": "stream",
     "text": [
      "4754.15\n"
     ]
    },
    {
     "name": "stdout",
     "output_type": "stream",
     "text": [
      "Escribiendo respuesta\n",
      "OK\n"
     ]
    },
    {
     "ename": "AssertionError",
     "evalue": "\nNot equal to tolerance rtol=1e-07, atol=1\n\nMismatched elements: 720 / 900 (80%)\nMax absolute difference: 6.235477\nMax relative difference: 0.01135301\n x: array([1500.      , 1500.      , 1500.      , 1500.      , 1500.      ,\n       1500.      , 1500.      , 1500.      , 1500.      , 1500.      ,\n       1500.      , 1500.      , 1500.      , 1500.      , 1500.      ,...\n y: array([1500.      , 1500.      , 1500.      , 1500.      , 1500.      ,\n       1500.      , 1500.      , 1500.      , 1500.      , 1500.      ,\n       1500.      , 1500.      , 1500.      , 1500.      , 1500.      ,...",
     "output_type": "error",
     "traceback": [
      "\u001b[0;31m---------------------------------------------------------------------------\u001b[0m",
      "\u001b[0;31mAssertionError\u001b[0m                            Traceback (most recent call last)",
      "\u001b[1;32m/home/lovi/Desktop/uni/metodos/tp1-metodos/tests_de_catedra.ipynb Cell 6'\u001b[0m in \u001b[0;36m<cell line: 4>\u001b[0;34m()\u001b[0m\n\u001b[1;32m      <a href='vscode-notebook-cell:/home/lovi/Desktop/uni/metodos/tp1-metodos/tests_de_catedra.ipynb#ch0000005?line=4'>5</a>\u001b[0m resultadosPropios \u001b[39m=\u001b[39m correr_test(\u001b[39m\"\u001b[39m\u001b[39mtests_alu/test\u001b[39m\u001b[39m\"\u001b[39m \u001b[39m+\u001b[39m \u001b[39mstr\u001b[39m(i) \u001b[39m+\u001b[39m \u001b[39m\"\u001b[39m\u001b[39m.in\u001b[39m\u001b[39m\"\u001b[39m, \u001b[39m\"\u001b[39m\u001b[39m./tests_alu/test\u001b[39m\u001b[39m\"\u001b[39m \u001b[39m+\u001b[39m \u001b[39mstr\u001b[39m(i) \u001b[39m+\u001b[39m \u001b[39m\"\u001b[39m\u001b[39m.out\u001b[39m\u001b[39m\"\u001b[39m, \u001b[39m\"\u001b[39m\u001b[39m0\u001b[39m\u001b[39m\"\u001b[39m)\n\u001b[1;32m      <a href='vscode-notebook-cell:/home/lovi/Desktop/uni/metodos/tp1-metodos/tests_de_catedra.ipynb#ch0000005?line=5'>6</a>\u001b[0m resultadosDeLaCatedra \u001b[39m=\u001b[39m leer_resultados(\u001b[39m\"\u001b[39m\u001b[39mtests_alu/test\u001b[39m\u001b[39m\"\u001b[39m \u001b[39m+\u001b[39m \u001b[39mstr\u001b[39m(i) \u001b[39m+\u001b[39m \u001b[39m\"\u001b[39m\u001b[39m.expected\u001b[39m\u001b[39m\"\u001b[39m)\n\u001b[0;32m----> <a href='vscode-notebook-cell:/home/lovi/Desktop/uni/metodos/tp1-metodos/tests_de_catedra.ipynb#ch0000005?line=6'>7</a>\u001b[0m np\u001b[39m.\u001b[39;49mtesting\u001b[39m.\u001b[39;49massert_allclose(resultadosPropios,resultadosDeLaCatedra, atol\u001b[39m=\u001b[39;49m\u001b[39m1.\u001b[39;49m )\n",
      "    \u001b[0;31m[... skipping hidden 1 frame]\u001b[0m\n",
      "File \u001b[0;32m~/.local/lib/python3.8/site-packages/numpy/testing/_private/utils.py:842\u001b[0m, in \u001b[0;36massert_array_compare\u001b[0;34m(comparison, x, y, err_msg, verbose, header, precision, equal_nan, equal_inf)\u001b[0m\n\u001b[1;32m    <a href='file:///home/lovi/.local/lib/python3.8/site-packages/numpy/testing/_private/utils.py?line=837'>838</a>\u001b[0m         err_msg \u001b[39m+\u001b[39m\u001b[39m=\u001b[39m \u001b[39m'\u001b[39m\u001b[39m\\n\u001b[39;00m\u001b[39m'\u001b[39m \u001b[39m+\u001b[39m \u001b[39m'\u001b[39m\u001b[39m\\n\u001b[39;00m\u001b[39m'\u001b[39m\u001b[39m.\u001b[39mjoin(remarks)\n\u001b[1;32m    <a href='file:///home/lovi/.local/lib/python3.8/site-packages/numpy/testing/_private/utils.py?line=838'>839</a>\u001b[0m         msg \u001b[39m=\u001b[39m build_err_msg([ox, oy], err_msg,\n\u001b[1;32m    <a href='file:///home/lovi/.local/lib/python3.8/site-packages/numpy/testing/_private/utils.py?line=839'>840</a>\u001b[0m                             verbose\u001b[39m=\u001b[39mverbose, header\u001b[39m=\u001b[39mheader,\n\u001b[1;32m    <a href='file:///home/lovi/.local/lib/python3.8/site-packages/numpy/testing/_private/utils.py?line=840'>841</a>\u001b[0m                             names\u001b[39m=\u001b[39m(\u001b[39m'\u001b[39m\u001b[39mx\u001b[39m\u001b[39m'\u001b[39m, \u001b[39m'\u001b[39m\u001b[39my\u001b[39m\u001b[39m'\u001b[39m), precision\u001b[39m=\u001b[39mprecision)\n\u001b[0;32m--> <a href='file:///home/lovi/.local/lib/python3.8/site-packages/numpy/testing/_private/utils.py?line=841'>842</a>\u001b[0m         \u001b[39mraise\u001b[39;00m \u001b[39mAssertionError\u001b[39;00m(msg)\n\u001b[1;32m    <a href='file:///home/lovi/.local/lib/python3.8/site-packages/numpy/testing/_private/utils.py?line=842'>843</a>\u001b[0m \u001b[39mexcept\u001b[39;00m \u001b[39mValueError\u001b[39;00m:\n\u001b[1;32m    <a href='file:///home/lovi/.local/lib/python3.8/site-packages/numpy/testing/_private/utils.py?line=843'>844</a>\u001b[0m     \u001b[39mimport\u001b[39;00m \u001b[39mtraceback\u001b[39;00m\n",
      "\u001b[0;31mAssertionError\u001b[0m: \nNot equal to tolerance rtol=1e-07, atol=1\n\nMismatched elements: 720 / 900 (80%)\nMax absolute difference: 6.235477\nMax relative difference: 0.01135301\n x: array([1500.      , 1500.      , 1500.      , 1500.      , 1500.      ,\n       1500.      , 1500.      , 1500.      , 1500.      , 1500.      ,\n       1500.      , 1500.      , 1500.      , 1500.      , 1500.      ,...\n y: array([1500.      , 1500.      , 1500.      , 1500.      , 1500.      ,\n       1500.      , 1500.      , 1500.      , 1500.      , 1500.      ,\n       1500.      , 1500.      , 1500.      , 1500.      , 1500.      ,..."
     ]
    }
   ],
   "source": [
    "##print(correr_test(\"./tests_alu/test1.in\", \"./tests_alu/test1.out\",\"0\"))\n",
    "##leer_resultados(\"./tests_alu/test1.expected\")\n",
    "\n",
    "for i in range(1,5) :\n",
    "    resultadosPropios = correr_test(\"tests_alu/test\" + str(i) + \".in\", \"./tests_alu/test\" + str(i) + \".out\", \"0\")\n",
    "    resultadosDeLaCatedra = leer_resultados(\"tests_alu/test\" + str(i) + \".expected\")\n",
    "    np.testing.assert_allclose(resultadosPropios,resultadosDeLaCatedra, atol=1. )\n"
   ]
  }
 ],
 "metadata": {
  "interpreter": {
   "hash": "916dbcbb3f70747c44a77c7bcd40155683ae19c65e1c03b4aa3499c5328201f1"
  },
  "kernelspec": {
   "display_name": "Python 3.8.10 64-bit",
   "language": "python",
   "name": "python3"
  },
  "language_info": {
   "codemirror_mode": {
    "name": "ipython",
    "version": 3
   },
   "file_extension": ".py",
   "mimetype": "text/x-python",
   "name": "python",
   "nbconvert_exporter": "python",
   "pygments_lexer": "ipython3",
   "version": "3.8.10"
  },
  "orig_nbformat": 4
 },
 "nbformat": 4,
 "nbformat_minor": 2
}
