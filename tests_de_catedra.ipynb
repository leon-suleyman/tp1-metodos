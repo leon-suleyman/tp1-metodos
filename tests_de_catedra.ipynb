{
 "cells": [
  {
   "cell_type": "markdown",
   "metadata": {},
   "source": [
    "## Tests de la catedra"
   ]
  },
  {
   "cell_type": "markdown",
   "metadata": {},
   "source": [
    "imports"
   ]
  },
  {
   "cell_type": "code",
   "execution_count": 1,
   "metadata": {},
   "outputs": [],
   "source": [
    "import numpy as np\n",
    "import math\n",
    "import unittest\n",
    "import subprocess as sub"
   ]
  },
  {
   "cell_type": "markdown",
   "metadata": {},
   "source": [
    "definiciones de funciones"
   ]
  },
  {
   "cell_type": "code",
   "execution_count": 2,
   "metadata": {},
   "outputs": [],
   "source": [
    "def correr_test (sourceFile, outputFile, method) :\n",
    "    sub.run([\"./build/tp1\", sourceFile, outputFile, method])\n",
    "\n",
    "    fileObj = open(outputFile, \"r\")\n",
    "    temperatures = fileObj.read().splitlines() #puts the file into an array\n",
    "    fileObj.close()\n",
    "\n",
    "    temperatures = np.asarray(list(map(float, temperatures))) # convertimos la lista de strings en un array de floats\n",
    "    \n",
    "    r = 0\n",
    "    while temperatures[r] > temperatures[r+1] : r=r+1\n",
    "    return temperatures\n",
    "\n",
    "def leer_resultados (resultFile) :\n",
    "    fileObj = open(resultFile, \"r\")\n",
    "    temperatures = fileObj.read().splitlines() #puts the file into an array\n",
    "    fileObj.close()\n",
    "\n",
    "    temperatures = np.asarray(list(map(float, temperatures)))\n",
    "    \n",
    "    return temperatures\n",
    "    \n"
   ]
  },
  {
   "cell_type": "code",
   "execution_count": 3,
   "metadata": {},
   "outputs": [
    {
     "name": "stdout",
     "output_type": "stream",
     "text": [
      "Cargando archivo tests_alu/test1.in\n",
      "OK\n"
     ]
    },
    {
     "name": "stderr",
     "output_type": "stream",
     "text": [
      "3729.03\n"
     ]
    },
    {
     "name": "stdout",
     "output_type": "stream",
     "text": [
      "Escribiendo respuesta\n",
      "OK\n",
      "Cargando archivo tests_alu/test2.in\n",
      "OK\n"
     ]
    },
    {
     "name": "stderr",
     "output_type": "stream",
     "text": [
      "3746.24\n",
      "144.512\n"
     ]
    },
    {
     "name": "stdout",
     "output_type": "stream",
     "text": [
      "Escribiendo respuesta\n",
      "OK\n",
      "Cargando archivo tests_alu/test3.in\n",
      "OK\n",
      "Escribiendo respuesta\n",
      "OK\n",
      "Cargando archivo tests_alu/test4.in\n",
      "OK\n",
      "Escribiendo respuesta\n",
      "OK\n"
     ]
    },
    {
     "name": "stderr",
     "output_type": "stream",
     "text": [
      "7236.66\n"
     ]
    }
   ],
   "source": [
    "##print(correr_test(\"./tests_alu/test1.in\", \"./tests_alu/test1.out\",\"0\"))\n",
    "##leer_resultados(\"./tests_alu/test1.expected\")\n",
    "\n",
    "for i in range(1,5) :\n",
    "    resultadosPropios = correr_test(\"tests_alu/test\" + str(i) + \".in\", \"./tests_alu/test\" + str(i) + \".out\", \"0\")\n",
    "    resultadosDeLaCatedra = leer_resultados(\"tests_alu/test\" + str(i) + \".expected\")\n",
    "    np.testing.assert_allclose(resultadosPropios,resultadosDeLaCatedra, atol=7. )\n"
   ]
  }
 ],
 "metadata": {
  "interpreter": {
   "hash": "916dbcbb3f70747c44a77c7bcd40155683ae19c65e1c03b4aa3499c5328201f1"
  },
  "kernelspec": {
   "display_name": "Python 3.8.10 64-bit",
   "language": "python",
   "name": "python3"
  },
  "language_info": {
   "codemirror_mode": {
    "name": "ipython",
    "version": 3
   },
   "file_extension": ".py",
   "mimetype": "text/x-python",
   "name": "python",
   "nbconvert_exporter": "python",
   "pygments_lexer": "ipython3",
   "version": "3.8.10"
  },
  "orig_nbformat": 4
 },
 "nbformat": 4,
 "nbformat_minor": 2
}
