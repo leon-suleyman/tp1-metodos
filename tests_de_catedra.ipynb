{
 "cells": [
  {
   "cell_type": "markdown",
   "metadata": {},
   "source": [
    "## Tests de la catedra"
   ]
  },
  {
   "cell_type": "markdown",
   "metadata": {},
   "source": [
    "imports"
   ]
  },
  {
   "cell_type": "code",
   "execution_count": 7,
   "metadata": {},
   "outputs": [],
   "source": [
    "import numpy as np\n",
    "import math\n",
    "import unittest\n",
    "import subprocess as sub"
   ]
  },
  {
   "cell_type": "markdown",
   "metadata": {},
   "source": [
    "definiciones de funciones"
   ]
  },
  {
   "cell_type": "code",
   "execution_count": 8,
   "metadata": {},
   "outputs": [],
   "source": [
    "def correr_test (sourceFile, outputFile, method) :\n",
    "    sub.run([\"./build/tp1\", sourceFile, outputFile, method])\n",
    "\n",
    "    fileObj = open(outputFile, \"r\")\n",
    "    temperatures = fileObj.read().splitlines() #puts the file into an array\n",
    "    fileObj.close()\n",
    "\n",
    "    temperatures = np.asarray(list(map(float, temperatures))) # convertimos la lista de strings en un array de floats\n",
    "    \n",
    "    r = 0\n",
    "    while temperatures[r] > temperatures[r+1] : r=r+1\n",
    "    return temperatures\n",
    "\n",
    "def leer_resultados (resultFile) :\n",
    "    fileObj = open(resultFile, \"r\")\n",
    "    temperatures = fileObj.read().splitlines() #puts the file into an array\n",
    "    fileObj.close()\n",
    "\n",
    "    temperatures = np.asarray(list(map(float, temperatures)))\n",
    "    tita = 1 #donde tita es la cantidad de angulos en los que se dividió la pared del horno\n",
    "    while temperatures[tita-1] == temperatures[tita] : tita=tita+1\n",
    "    \n",
    "    number_of_radiuses = int(temperatures.size/(tita))\n",
    "    temperatures_Ord = np.zeros(temperatures.size, dtype=float)\n",
    "    for radius in range(0, number_of_radiuses):\n",
    "        for angle in range(0, tita) :\n",
    "            temperatures_Ord[angle*tita + radius] = temperatures[radius*tita + radius]\n",
    "\n",
    "\n",
    "    return temperatures_Ord\n",
    "    \n"
   ]
  },
  {
   "cell_type": "code",
   "execution_count": 9,
   "metadata": {},
   "outputs": [
    {
     "ename": "AssertionError",
     "evalue": "\nNot equal to tolerance rtol=1e-07, atol=1\n\nMismatched elements: 720 / 900 (80%)\nMax absolute difference: 6.233487\nMax relative difference: 0.01134495\n x: array([1500.      , 1313.577148, 1170.176758, 1053.664917,  955.550354,\n        870.815491,  796.249573,  729.673462,  669.540771,  614.713989,\n        564.332886,  517.730591,  474.379822,  433.856628,  395.814636,...\n y: array([1500.      , 1310.001656, 1165.002921, 1047.7699  ,  949.377901,\n        864.609409,  790.150599,  723.765635,  663.874853,  609.320873,\n        559.230401,  512.928284,  469.881784,  429.663157,  391.92376 ,...",
     "output_type": "error",
     "traceback": [
      "\u001b[0;31m---------------------------------------------------------------------------\u001b[0m",
      "\u001b[0;31mAssertionError\u001b[0m                            Traceback (most recent call last)",
      "\u001b[0;32m<ipython-input-9-8aaec24fc7cf>\u001b[0m in \u001b[0;36m<module>\u001b[0;34m\u001b[0m\n\u001b[1;32m      5\u001b[0m     \u001b[0mresultadosPropios\u001b[0m \u001b[0;34m=\u001b[0m \u001b[0mcorrer_test\u001b[0m\u001b[0;34m(\u001b[0m\u001b[0;34m\"tests_alu/test\"\u001b[0m \u001b[0;34m+\u001b[0m \u001b[0mstr\u001b[0m\u001b[0;34m(\u001b[0m\u001b[0mi\u001b[0m\u001b[0;34m)\u001b[0m \u001b[0;34m+\u001b[0m \u001b[0;34m\".in\"\u001b[0m\u001b[0;34m,\u001b[0m \u001b[0;34m\"./tests_alu/test\"\u001b[0m \u001b[0;34m+\u001b[0m \u001b[0mstr\u001b[0m\u001b[0;34m(\u001b[0m\u001b[0mi\u001b[0m\u001b[0;34m)\u001b[0m \u001b[0;34m+\u001b[0m \u001b[0;34m\".out\"\u001b[0m\u001b[0;34m,\u001b[0m \u001b[0;34m\"0\"\u001b[0m\u001b[0;34m)\u001b[0m\u001b[0;34m\u001b[0m\u001b[0;34m\u001b[0m\u001b[0m\n\u001b[1;32m      6\u001b[0m     \u001b[0mresultadosDeLaCatedra\u001b[0m \u001b[0;34m=\u001b[0m \u001b[0mleer_resultados\u001b[0m\u001b[0;34m(\u001b[0m\u001b[0;34m\"tests_alu/test\"\u001b[0m \u001b[0;34m+\u001b[0m \u001b[0mstr\u001b[0m\u001b[0;34m(\u001b[0m\u001b[0mi\u001b[0m\u001b[0;34m)\u001b[0m \u001b[0;34m+\u001b[0m \u001b[0;34m\".expected\"\u001b[0m\u001b[0;34m)\u001b[0m\u001b[0;34m\u001b[0m\u001b[0;34m\u001b[0m\u001b[0m\n\u001b[0;32m----> 7\u001b[0;31m     \u001b[0mnp\u001b[0m\u001b[0;34m.\u001b[0m\u001b[0mtesting\u001b[0m\u001b[0;34m.\u001b[0m\u001b[0massert_allclose\u001b[0m\u001b[0;34m(\u001b[0m\u001b[0mresultadosPropios\u001b[0m\u001b[0;34m,\u001b[0m\u001b[0mresultadosDeLaCatedra\u001b[0m\u001b[0;34m,\u001b[0m \u001b[0matol\u001b[0m\u001b[0;34m=\u001b[0m\u001b[0;36m1.\u001b[0m \u001b[0;34m)\u001b[0m\u001b[0;34m\u001b[0m\u001b[0;34m\u001b[0m\u001b[0m\n\u001b[0m",
      "\u001b[0;32m~/.local/lib/python3.8/site-packages/numpy/testing/_private/utils.py\u001b[0m in \u001b[0;36massert_allclose\u001b[0;34m(actual, desired, rtol, atol, equal_nan, err_msg, verbose)\u001b[0m\n\u001b[1;32m   1526\u001b[0m     \u001b[0mactual\u001b[0m\u001b[0;34m,\u001b[0m \u001b[0mdesired\u001b[0m \u001b[0;34m=\u001b[0m \u001b[0mnp\u001b[0m\u001b[0;34m.\u001b[0m\u001b[0masanyarray\u001b[0m\u001b[0;34m(\u001b[0m\u001b[0mactual\u001b[0m\u001b[0;34m)\u001b[0m\u001b[0;34m,\u001b[0m \u001b[0mnp\u001b[0m\u001b[0;34m.\u001b[0m\u001b[0masanyarray\u001b[0m\u001b[0;34m(\u001b[0m\u001b[0mdesired\u001b[0m\u001b[0;34m)\u001b[0m\u001b[0;34m\u001b[0m\u001b[0;34m\u001b[0m\u001b[0m\n\u001b[1;32m   1527\u001b[0m     \u001b[0mheader\u001b[0m \u001b[0;34m=\u001b[0m \u001b[0;34mf'Not equal to tolerance rtol={rtol:g}, atol={atol:g}'\u001b[0m\u001b[0;34m\u001b[0m\u001b[0;34m\u001b[0m\u001b[0m\n\u001b[0;32m-> 1528\u001b[0;31m     assert_array_compare(compare, actual, desired, err_msg=str(err_msg),\n\u001b[0m\u001b[1;32m   1529\u001b[0m                          verbose=verbose, header=header, equal_nan=equal_nan)\n\u001b[1;32m   1530\u001b[0m \u001b[0;34m\u001b[0m\u001b[0m\n",
      "\u001b[0;32m~/.local/lib/python3.8/site-packages/numpy/testing/_private/utils.py\u001b[0m in \u001b[0;36massert_array_compare\u001b[0;34m(comparison, x, y, err_msg, verbose, header, precision, equal_nan, equal_inf)\u001b[0m\n\u001b[1;32m    840\u001b[0m                                 \u001b[0mverbose\u001b[0m\u001b[0;34m=\u001b[0m\u001b[0mverbose\u001b[0m\u001b[0;34m,\u001b[0m \u001b[0mheader\u001b[0m\u001b[0;34m=\u001b[0m\u001b[0mheader\u001b[0m\u001b[0;34m,\u001b[0m\u001b[0;34m\u001b[0m\u001b[0;34m\u001b[0m\u001b[0m\n\u001b[1;32m    841\u001b[0m                                 names=('x', 'y'), precision=precision)\n\u001b[0;32m--> 842\u001b[0;31m             \u001b[0;32mraise\u001b[0m \u001b[0mAssertionError\u001b[0m\u001b[0;34m(\u001b[0m\u001b[0mmsg\u001b[0m\u001b[0;34m)\u001b[0m\u001b[0;34m\u001b[0m\u001b[0;34m\u001b[0m\u001b[0m\n\u001b[0m\u001b[1;32m    843\u001b[0m     \u001b[0;32mexcept\u001b[0m \u001b[0mValueError\u001b[0m\u001b[0;34m:\u001b[0m\u001b[0;34m\u001b[0m\u001b[0;34m\u001b[0m\u001b[0m\n\u001b[1;32m    844\u001b[0m         \u001b[0;32mimport\u001b[0m \u001b[0mtraceback\u001b[0m\u001b[0;34m\u001b[0m\u001b[0;34m\u001b[0m\u001b[0m\n",
      "\u001b[0;31mAssertionError\u001b[0m: \nNot equal to tolerance rtol=1e-07, atol=1\n\nMismatched elements: 720 / 900 (80%)\nMax absolute difference: 6.233487\nMax relative difference: 0.01134495\n x: array([1500.      , 1313.577148, 1170.176758, 1053.664917,  955.550354,\n        870.815491,  796.249573,  729.673462,  669.540771,  614.713989,\n        564.332886,  517.730591,  474.379822,  433.856628,  395.814636,...\n y: array([1500.      , 1310.001656, 1165.002921, 1047.7699  ,  949.377901,\n        864.609409,  790.150599,  723.765635,  663.874853,  609.320873,\n        559.230401,  512.928284,  469.881784,  429.663157,  391.92376 ,..."
     ]
    }
   ],
   "source": [
    "##print(correr_test(\"./tests_alu/test1.in\", \"./tests_alu/test1.out\",\"0\"))\n",
    "##leer_resultados(\"./tests_alu/test1.expected\")\n",
    "\n",
    "for i in range(1,5) :\n",
    "    resultadosPropios = correr_test(\"tests_alu/test\" + str(i) + \".in\", \"./tests_alu/test\" + str(i) + \".out\", \"0\")\n",
    "    resultadosDeLaCatedra = leer_resultados(\"tests_alu/test\" + str(i) + \".expected\")\n",
    "    np.testing.assert_allclose(resultadosPropios,resultadosDeLaCatedra, atol=1. )\n"
   ]
  }
 ],
 "metadata": {
  "interpreter": {
   "hash": "916dbcbb3f70747c44a77c7bcd40155683ae19c65e1c03b4aa3499c5328201f1"
  },
  "kernelspec": {
   "display_name": "Python 3.8.10 64-bit",
   "language": "python",
   "name": "python3"
  },
  "language_info": {
   "codemirror_mode": {
    "name": "ipython",
    "version": 3
   },
   "file_extension": ".py",
   "mimetype": "text/x-python",
   "name": "python",
   "nbconvert_exporter": "python",
   "pygments_lexer": "ipython3",
   "version": "3.8.10"
  },
  "orig_nbformat": 4
 },
 "nbformat": 4,
 "nbformat_minor": 2
}
