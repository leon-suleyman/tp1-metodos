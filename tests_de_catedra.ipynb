{
 "cells": [
  {
   "cell_type": "markdown",
   "metadata": {},
   "source": [
    "## Tests de la catedra"
   ]
  },
  {
   "cell_type": "markdown",
   "metadata": {},
   "source": [
    "imports"
   ]
  },
  {
   "cell_type": "code",
   "execution_count": 1,
   "metadata": {},
   "outputs": [],
   "source": [
    "import numpy as np\n",
    "import math\n",
    "import unittest\n",
    "import subprocess as sub"
   ]
  },
  {
   "cell_type": "markdown",
   "metadata": {},
   "source": [
    "definiciones de funciones"
   ]
  },
  {
   "cell_type": "code",
   "execution_count": 4,
   "metadata": {},
   "outputs": [],
   "source": [
    "def correr_test (sourceFile, method) :\n",
    "    sub.run([\"./build/tp1\", sourceFile, \"./testOutput.txt\", method], shell=True)\n",
    "\n",
    "    fileObj = open(\"./testOutput.txt\", \"r\")\n",
    "    temperatures = fileObj.read().splitlines() #puts the file into an array\n",
    "    fileObj.close()\n",
    "\n",
    "    r = 0\n",
    "    while temperatures[r] > temperatures[r+1] : r=r+1\n",
    "    return np.reshape(temperatures, (temperatures.len/r, r))\n",
    "\n",
    "def leer_resultados (resultFile) :\n",
    "    fileObj = open(resultFile, \"r\")\n",
    "    temperatures = fileObj.read().splitlines() #puts the file into an array\n",
    "    fileObj.close()\n",
    "\n",
    "    tita = 0\n",
    "    while temperatures[tita] == temperatures[tita+1] : tita=tita+1\n",
    "\n",
    "    return np.reshape(temperatures, (tita, temperatures.len/tita)).T\n",
    "    \n"
   ]
  }
 ],
 "metadata": {
  "interpreter": {
   "hash": "916dbcbb3f70747c44a77c7bcd40155683ae19c65e1c03b4aa3499c5328201f1"
  },
  "kernelspec": {
   "display_name": "Python 3.8.10 64-bit",
   "language": "python",
   "name": "python3"
  },
  "language_info": {
   "codemirror_mode": {
    "name": "ipython",
    "version": 3
   },
   "file_extension": ".py",
   "mimetype": "text/x-python",
   "name": "python",
   "nbconvert_exporter": "python",
   "pygments_lexer": "ipython3",
   "version": "3.8.10"
  },
  "orig_nbformat": 4
 },
 "nbformat": 4,
 "nbformat_minor": 2
}
