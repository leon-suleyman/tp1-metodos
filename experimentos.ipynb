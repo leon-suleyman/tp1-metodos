{
 "cells": [
  {
   "cell_type": "markdown",
   "metadata": {},
   "source": [
    "# Correr experimentos\n",
    "En este archivo está el código para correr los experimentos y escribir los resultados en archivos CSV.\n",
    "> Los archivos se guardan en la carpeta _resultados_."
   ]
  },
  {
   "cell_type": "code",
   "execution_count": 13,
   "metadata": {},
   "outputs": [],
   "source": [
    "import math, subprocess\n",
    "import pandas as pd\n",
    "import numpy as np\n",
    "from IPython.display import display, clear_output\n",
    "from os import listdir"
   ]
  },
  {
   "cell_type": "markdown",
   "metadata": {},
   "source": [
    "## Creacion de indice para recorrer instancias"
   ]
  },
  {
   "cell_type": "code",
   "execution_count": null,
   "metadata": {},
   "outputs": [],
   "source": [
    "##ESTO ES DE UN TP ANTERIOR, NO ME ACUERDO BIEN PARA QUE ESTABA\n",
    "##ESTO ES MEDIO FEO PERO ANDA, NO TOCAR##\n",
    "\n",
    "filas_indice = []\n",
    "\n",
    "instancias = listdir('./instancias')\n",
    "instancias = sorted(instancias)\n",
    "\n",
    "i = 6\n",
    "\n",
    "tipo = \"IN\"\n",
    "for instancia in instancias:  \n",
    "    if 'CMI' in instancia:\n",
    "        if i > 26:\n",
    "            n = int(F\"{instancia[5]}\")\n",
    "        else:\n",
    "            n = int(F\"{instancia[5]}{instancia[6]}\")\n",
    "            \n",
    "        filas_indice.append([instancia, n, tipo])\n",
    "        if tipo == \"IN\":\n",
    "            tipo = \"OUT\"\n",
    "        else:\n",
    "            i = i+2\n",
    "            tipo = \"IN\"\n",
    "filas_indice.sort(key=lambda x: x[1])\n",
    "pd.DataFrame(filas_indice, columns=[\"instancia\", \"n\", \"IN/OUT\"]).to_csv(\"./instancias/indice.csv\", index=False, header=True)"
   ]
  },
  {
   "cell_type": "markdown",
   "metadata": {},
   "source": [
    "A continuación leemos los datasets en dataframes de Pandas."
   ]
  },
  {
   "cell_type": "code",
   "execution_count": 14,
   "metadata": {},
   "outputs": [],
   "source": [
    "def leer_instancia(path_instancia):\n",
    "    with open(path_instancia, \"r\") as f:\n",
    "        return f.read()\n",
    "\n",
    "\n",
    "df_todas = pd.read_csv(\"./instancias/indice.csv\")\n",
    "\n",
    "df_todas_in = df_todas[df_todas[\"IN/OUT\"] == \"IN\"]\n",
    "df_todas_out = df_todas[df_todas[\"IN/OUT\"] == \"OUT\"]\n"
   ]
  },
  {
   "cell_type": "markdown",
   "metadata": {},
   "source": [
    "La siguiente función sirve para correr el código sobre una instancia ejecutando un método en particular.\n"
   ]
  },
  {
   "cell_type": "code",
   "execution_count": 15,
   "metadata": {},
   "outputs": [],
   "source": [
    "def correr_experimento(archivo_entrada, archivo_salida, metodo):\n",
    "    # Crear proceso para ejecutar el codigo.\n",
    "    process = subprocess.Popen([\"./build/tp1\", archivo_entrada, archivo_salida, metodo], stderr=subprocess.PIPE, stdout=subprocess.PIPE, stdin=subprocess.PIPE, universal_newlines = True)\n",
    "\n",
    "    # Poner la instancia en la entrada estandar y leer salida de STDERR con el tiempo de ejecución.\n",
    "    clog = process.communicate()[1] # communicate() devuelve una tupla (stdout, stderr)\n",
    "\n",
    "    tiempo_de_ejecucion = str.splitlines(clog)[0]\n",
    "    #print(clog)\n",
    "\n",
    "    # Correr experimento.\n",
    "    exit_code = process.wait()\n",
    "\n",
    "    # Verificar que el proceso no fallo.\n",
    "    if exit_code != 0: raise(F\"Hubo un error en la experimentacion con el metodo {'EG' if metodo == 0 else 'LU'} sobre la instancia {archivo_entrada}.\")\n",
    "    return float(tiempo_de_ejecucion)"
   ]
  },
  {
   "cell_type": "markdown",
   "metadata": {},
   "source": [
    "Creadores de Instancias"
   ]
  },
  {
   "cell_type": "code",
   "execution_count": 16,
   "metadata": {},
   "outputs": [],
   "source": [
    "def instancia_ideal(n):\n",
    "    return [50 for _ in range(n)]\n",
    "\n",
    "def instancia_intercalada(n):\n",
    "    temperaturas = []\n",
    "    for i in range(n):\n",
    "        if i % 2 == 0:\n",
    "            temperaturas.append(50)\n",
    "        else:\n",
    "            temperaturas.append(200)   \n",
    "    return temperaturas         \n",
    "\n",
    "def crear_archivo_con_instacia (tipoDeInstancia, nombreArchivo, paredInterna, paredExterna, numDeAngulos, numDeRadios, iso, numDeInstancias):\n",
    "    \n",
    "    with open(f\"./instancias/{tipoDeInstancia}/{nombreArchivo}\", 'w') as f: #abrimos el archivo\n",
    "        #escribimos los datos del principio del archivo\n",
    "        f.write(str(paredInterna)+\" \"+str(paredExterna)+\" \"+str(numDeAngulos)+\" \"+str(numDeRadios)+\" \"+str(iso)+\" \"+str(numDeInstancias)+\"\\n\")\n",
    "        #creamos las temperaturas externas y las escribimos junto con las temperaturas internas\n",
    "        for i in range(0, numDeInstancias):\n",
    "\n",
    "            instancias = []\n",
    "            if tipoDeInstancia == 'instancia_ideal' :\n",
    "                instancias = instancia_ideal(numDeAngulos)\n",
    "            elif tipoDeInstancia == 'instancia_intercalada' :\n",
    "                instancias = instancia_intercalada(numDeAngulos)\n",
    "            else:\n",
    "                break\n",
    "\n",
    "            for j in range(0, numDeAngulos) :\n",
    "                f.write(\"1500 \")\n",
    "            for temperatura in instancias :\n",
    "                f.write(str(temperatura)+\" \")\n",
    "            f.write(\"\\n\")\n"
   ]
  },
  {
   "cell_type": "code",
   "execution_count": 17,
   "metadata": {},
   "outputs": [],
   "source": [
    "for cantAngulos in range(5,35,5):\n",
    "    for cantRadios in range(5,35,5):\n",
    "        crear_archivo_con_instacia(\"instancia_ideal\", f\"{cantRadios}X{cantAngulos}.in\", 10, 100, cantRadios, cantAngulos, 500, 1)\n",
    "\n",
    "for cantAngulos in range(5,30,5):\n",
    "    for cantRadios in range(5,30,5):\n",
    "        crear_archivo_con_instacia(\"instancia_intercalada\", f\"{cantRadios}X{cantAngulos}.in\", 10, 100, cantRadios, cantAngulos, 500, 1)\n"
   ]
  },
  {
   "cell_type": "markdown",
   "metadata": {},
   "source": [
    "## Corremos los experimentos\n",
    "Vamos a guardar una tabla con las ejecuciones y sus respectivos tiempos."
   ]
  },
  {
   "cell_type": "code",
   "execution_count": 23,
   "metadata": {},
   "outputs": [],
   "source": [
    "\n",
    "#Guardar aquí un vector [archivo_entrada, archivo_salida, metodo (0 o 1)] por cada experimento a correr\n",
    "def cargarExperimentos(tipoDeInstancia, variante):\n",
    "    exps=[]\n",
    "    instancias = listdir(f\"instancias/{tipoDeInstancia}\")\n",
    "    if variante == \"EG\":\n",
    "        exps = [[f\"instancias/{tipoDeInstancia}/{instancia}\", f\"resultados/{tipoDeInstancia}/{instancia.split('.')[0]}.out\", 0] for instancia in instancias]\n",
    "    elif variante == \"LU\":\n",
    "        exps = [[f\"instancias/{tipoDeInstancia}/{instancia}\", f\"resultados/{tipoDeInstancia}/{instancia.split('.')[0]}.out\", 1] for instancia in instancias]\n",
    "    elif variante == \"ALL\":\n",
    "        exps = cargarExperimentos(tipoDeInstancia, \"EG\").extend(cargarExperimentos(tipoDeInstancia, \"LU\"))\n",
    "    return exps"
   ]
  },
  {
   "cell_type": "code",
   "execution_count": 26,
   "metadata": {},
   "outputs": [],
   "source": [
    "experimentos = [];"
   ]
  },
  {
   "cell_type": "markdown",
   "metadata": {},
   "source": [
    "## Experimento 1\n",
    "\n"
   ]
  },
  {
   "cell_type": "code",
   "execution_count": 27,
   "metadata": {},
   "outputs": [],
   "source": [
    "experimentos.extend(cargarExperimentos(\"instancia_ideal\", \"EG\"))\n"
   ]
  },
  {
   "cell_type": "markdown",
   "metadata": {},
   "source": [
    "## Experimento 2\n",
    "\n"
   ]
  },
  {
   "cell_type": "code",
   "execution_count": null,
   "metadata": {},
   "outputs": [],
   "source": []
  },
  {
   "cell_type": "markdown",
   "metadata": {},
   "source": [
    "## Experimento 3\n",
    "\n"
   ]
  },
  {
   "cell_type": "code",
   "execution_count": null,
   "metadata": {},
   "outputs": [],
   "source": []
  },
  {
   "cell_type": "markdown",
   "metadata": {},
   "source": [
    "## Ejecutar los experimentos y guardar los resultados en un archivo CSV.\n",
    "Este paso puede tardar unos minutos hasta terminar de ejecutarse."
   ]
  },
  {
   "cell_type": "code",
   "execution_count": 28,
   "metadata": {},
   "outputs": [
    {
     "data": {
      "text/plain": [
       "'Experimento: 1/37'"
      ]
     },
     "metadata": {},
     "output_type": "display_data"
    },
    {
     "ename": "TypeError",
     "evalue": "expected str, bytes or os.PathLike object, not int",
     "output_type": "error",
     "traceback": [
      "\u001b[0;31m---------------------------------------------------------------------------\u001b[0m",
      "\u001b[0;31mTypeError\u001b[0m                                 Traceback (most recent call last)",
      "\u001b[1;32m/home/agustin/Desktop/Métodos Numéricos/Repos/tp1-metodos/experimentos.ipynb Cell 22'\u001b[0m in \u001b[0;36m<cell line: 5>\u001b[0;34m()\u001b[0m\n\u001b[1;32m     <a href='vscode-notebook-cell:/home/agustin/Desktop/M%C3%A9todos%20Num%C3%A9ricos/Repos/tp1-metodos/experimentos.ipynb#ch0000020?line=11'>12</a>\u001b[0m tiempos \u001b[39m=\u001b[39m []    \n\u001b[1;32m     <a href='vscode-notebook-cell:/home/agustin/Desktop/M%C3%A9todos%20Num%C3%A9ricos/Repos/tp1-metodos/experimentos.ipynb#ch0000020?line=12'>13</a>\u001b[0m \u001b[39mfor\u001b[39;00m i \u001b[39min\u001b[39;00m \u001b[39mrange\u001b[39m(\u001b[39m0\u001b[39m, T):\n\u001b[0;32m---> <a href='vscode-notebook-cell:/home/agustin/Desktop/M%C3%A9todos%20Num%C3%A9ricos/Repos/tp1-metodos/experimentos.ipynb#ch0000020?line=13'>14</a>\u001b[0m     tiempo \u001b[39m=\u001b[39m correr_experimento(experimento[\u001b[39m0\u001b[39;49m], experimento[\u001b[39m1\u001b[39;49m], experimento[\u001b[39m2\u001b[39;49m])\n\u001b[1;32m     <a href='vscode-notebook-cell:/home/agustin/Desktop/M%C3%A9todos%20Num%C3%A9ricos/Repos/tp1-metodos/experimentos.ipynb#ch0000020?line=14'>15</a>\u001b[0m     tiempos\u001b[39m.\u001b[39mappend(tiempo);\n\u001b[1;32m     <a href='vscode-notebook-cell:/home/agustin/Desktop/M%C3%A9todos%20Num%C3%A9ricos/Repos/tp1-metodos/experimentos.ipynb#ch0000020?line=16'>17</a>\u001b[0m tiempo_medio \u001b[39m=\u001b[39m np\u001b[39m.\u001b[39mmedian(tiempos);\n",
      "\u001b[1;32m/home/agustin/Desktop/Métodos Numéricos/Repos/tp1-metodos/experimentos.ipynb Cell 8'\u001b[0m in \u001b[0;36mcorrer_experimento\u001b[0;34m(archivo_entrada, archivo_salida, metodo)\u001b[0m\n\u001b[1;32m      <a href='vscode-notebook-cell:/home/agustin/Desktop/M%C3%A9todos%20Num%C3%A9ricos/Repos/tp1-metodos/experimentos.ipynb#ch0000007?line=0'>1</a>\u001b[0m \u001b[39mdef\u001b[39;00m \u001b[39mcorrer_experimento\u001b[39m(archivo_entrada, archivo_salida, metodo):\n\u001b[1;32m      <a href='vscode-notebook-cell:/home/agustin/Desktop/M%C3%A9todos%20Num%C3%A9ricos/Repos/tp1-metodos/experimentos.ipynb#ch0000007?line=1'>2</a>\u001b[0m     \u001b[39m# Crear proceso para ejecutar el codigo.\u001b[39;00m\n\u001b[0;32m----> <a href='vscode-notebook-cell:/home/agustin/Desktop/M%C3%A9todos%20Num%C3%A9ricos/Repos/tp1-metodos/experimentos.ipynb#ch0000007?line=2'>3</a>\u001b[0m     process \u001b[39m=\u001b[39m subprocess\u001b[39m.\u001b[39;49mPopen([\u001b[39m\"\u001b[39;49m\u001b[39m./build/tp1\u001b[39;49m\u001b[39m\"\u001b[39;49m, archivo_entrada, archivo_salida, metodo], stderr\u001b[39m=\u001b[39;49msubprocess\u001b[39m.\u001b[39;49mPIPE, stdout\u001b[39m=\u001b[39;49msubprocess\u001b[39m.\u001b[39;49mPIPE, stdin\u001b[39m=\u001b[39;49msubprocess\u001b[39m.\u001b[39;49mPIPE, universal_newlines \u001b[39m=\u001b[39;49m \u001b[39mTrue\u001b[39;49;00m)\n\u001b[1;32m      <a href='vscode-notebook-cell:/home/agustin/Desktop/M%C3%A9todos%20Num%C3%A9ricos/Repos/tp1-metodos/experimentos.ipynb#ch0000007?line=4'>5</a>\u001b[0m     \u001b[39m# Poner la instancia en la entrada estandar y leer salida de STDERR con el tiempo de ejecución.\u001b[39;00m\n\u001b[1;32m      <a href='vscode-notebook-cell:/home/agustin/Desktop/M%C3%A9todos%20Num%C3%A9ricos/Repos/tp1-metodos/experimentos.ipynb#ch0000007?line=5'>6</a>\u001b[0m     clog \u001b[39m=\u001b[39m process\u001b[39m.\u001b[39mcommunicate()[\u001b[39m1\u001b[39m] \u001b[39m# communicate() devuelve una tupla (stdout, stderr)\u001b[39;00m\n",
      "File \u001b[0;32m/usr/lib/python3.9/subprocess.py:951\u001b[0m, in \u001b[0;36mPopen.__init__\u001b[0;34m(self, args, bufsize, executable, stdin, stdout, stderr, preexec_fn, close_fds, shell, cwd, env, universal_newlines, startupinfo, creationflags, restore_signals, start_new_session, pass_fds, user, group, extra_groups, encoding, errors, text, umask)\u001b[0m\n\u001b[1;32m    <a href='file:///usr/lib/python3.9/subprocess.py?line=946'>947</a>\u001b[0m         \u001b[39mif\u001b[39;00m \u001b[39mself\u001b[39m\u001b[39m.\u001b[39mtext_mode:\n\u001b[1;32m    <a href='file:///usr/lib/python3.9/subprocess.py?line=947'>948</a>\u001b[0m             \u001b[39mself\u001b[39m\u001b[39m.\u001b[39mstderr \u001b[39m=\u001b[39m io\u001b[39m.\u001b[39mTextIOWrapper(\u001b[39mself\u001b[39m\u001b[39m.\u001b[39mstderr,\n\u001b[1;32m    <a href='file:///usr/lib/python3.9/subprocess.py?line=948'>949</a>\u001b[0m                     encoding\u001b[39m=\u001b[39mencoding, errors\u001b[39m=\u001b[39merrors)\n\u001b[0;32m--> <a href='file:///usr/lib/python3.9/subprocess.py?line=950'>951</a>\u001b[0m     \u001b[39mself\u001b[39;49m\u001b[39m.\u001b[39;49m_execute_child(args, executable, preexec_fn, close_fds,\n\u001b[1;32m    <a href='file:///usr/lib/python3.9/subprocess.py?line=951'>952</a>\u001b[0m                         pass_fds, cwd, env,\n\u001b[1;32m    <a href='file:///usr/lib/python3.9/subprocess.py?line=952'>953</a>\u001b[0m                         startupinfo, creationflags, shell,\n\u001b[1;32m    <a href='file:///usr/lib/python3.9/subprocess.py?line=953'>954</a>\u001b[0m                         p2cread, p2cwrite,\n\u001b[1;32m    <a href='file:///usr/lib/python3.9/subprocess.py?line=954'>955</a>\u001b[0m                         c2pread, c2pwrite,\n\u001b[1;32m    <a href='file:///usr/lib/python3.9/subprocess.py?line=955'>956</a>\u001b[0m                         errread, errwrite,\n\u001b[1;32m    <a href='file:///usr/lib/python3.9/subprocess.py?line=956'>957</a>\u001b[0m                         restore_signals,\n\u001b[1;32m    <a href='file:///usr/lib/python3.9/subprocess.py?line=957'>958</a>\u001b[0m                         gid, gids, uid, umask,\n\u001b[1;32m    <a href='file:///usr/lib/python3.9/subprocess.py?line=958'>959</a>\u001b[0m                         start_new_session)\n\u001b[1;32m    <a href='file:///usr/lib/python3.9/subprocess.py?line=959'>960</a>\u001b[0m \u001b[39mexcept\u001b[39;00m:\n\u001b[1;32m    <a href='file:///usr/lib/python3.9/subprocess.py?line=960'>961</a>\u001b[0m     \u001b[39m# Cleanup if the child failed starting.\u001b[39;00m\n\u001b[1;32m    <a href='file:///usr/lib/python3.9/subprocess.py?line=961'>962</a>\u001b[0m     \u001b[39mfor\u001b[39;00m f \u001b[39min\u001b[39;00m \u001b[39mfilter\u001b[39m(\u001b[39mNone\u001b[39;00m, (\u001b[39mself\u001b[39m\u001b[39m.\u001b[39mstdin, \u001b[39mself\u001b[39m\u001b[39m.\u001b[39mstdout, \u001b[39mself\u001b[39m\u001b[39m.\u001b[39mstderr)):\n",
      "File \u001b[0;32m/usr/lib/python3.9/subprocess.py:1754\u001b[0m, in \u001b[0;36mPopen._execute_child\u001b[0;34m(self, args, executable, preexec_fn, close_fds, pass_fds, cwd, env, startupinfo, creationflags, shell, p2cread, p2cwrite, c2pread, c2pwrite, errread, errwrite, restore_signals, gid, gids, uid, umask, start_new_session)\u001b[0m\n\u001b[1;32m   <a href='file:///usr/lib/python3.9/subprocess.py?line=1751'>1752</a>\u001b[0m     fds_to_keep \u001b[39m=\u001b[39m \u001b[39mset\u001b[39m(pass_fds)\n\u001b[1;32m   <a href='file:///usr/lib/python3.9/subprocess.py?line=1752'>1753</a>\u001b[0m     fds_to_keep\u001b[39m.\u001b[39madd(errpipe_write)\n\u001b[0;32m-> <a href='file:///usr/lib/python3.9/subprocess.py?line=1753'>1754</a>\u001b[0m     \u001b[39mself\u001b[39m\u001b[39m.\u001b[39mpid \u001b[39m=\u001b[39m _posixsubprocess\u001b[39m.\u001b[39;49mfork_exec(\n\u001b[1;32m   <a href='file:///usr/lib/python3.9/subprocess.py?line=1754'>1755</a>\u001b[0m             args, executable_list,\n\u001b[1;32m   <a href='file:///usr/lib/python3.9/subprocess.py?line=1755'>1756</a>\u001b[0m             close_fds, \u001b[39mtuple\u001b[39;49m(\u001b[39msorted\u001b[39;49m(\u001b[39mmap\u001b[39;49m(\u001b[39mint\u001b[39;49m, fds_to_keep))),\n\u001b[1;32m   <a href='file:///usr/lib/python3.9/subprocess.py?line=1756'>1757</a>\u001b[0m             cwd, env_list,\n\u001b[1;32m   <a href='file:///usr/lib/python3.9/subprocess.py?line=1757'>1758</a>\u001b[0m             p2cread, p2cwrite, c2pread, c2pwrite,\n\u001b[1;32m   <a href='file:///usr/lib/python3.9/subprocess.py?line=1758'>1759</a>\u001b[0m             errread, errwrite,\n\u001b[1;32m   <a href='file:///usr/lib/python3.9/subprocess.py?line=1759'>1760</a>\u001b[0m             errpipe_read, errpipe_write,\n\u001b[1;32m   <a href='file:///usr/lib/python3.9/subprocess.py?line=1760'>1761</a>\u001b[0m             restore_signals, start_new_session,\n\u001b[1;32m   <a href='file:///usr/lib/python3.9/subprocess.py?line=1761'>1762</a>\u001b[0m             gid, gids, uid, umask,\n\u001b[1;32m   <a href='file:///usr/lib/python3.9/subprocess.py?line=1762'>1763</a>\u001b[0m             preexec_fn)\n\u001b[1;32m   <a href='file:///usr/lib/python3.9/subprocess.py?line=1763'>1764</a>\u001b[0m     \u001b[39mself\u001b[39m\u001b[39m.\u001b[39m_child_created \u001b[39m=\u001b[39m \u001b[39mTrue\u001b[39;00m\n\u001b[1;32m   <a href='file:///usr/lib/python3.9/subprocess.py?line=1764'>1765</a>\u001b[0m \u001b[39mfinally\u001b[39;00m:\n\u001b[1;32m   <a href='file:///usr/lib/python3.9/subprocess.py?line=1765'>1766</a>\u001b[0m     \u001b[39m# be sure the FD is closed no matter what\u001b[39;00m\n",
      "File \u001b[0;32m~/.virtualenvs/metnum/lib/python3.9/site-packages/debugpy/_vendored/pydevd/_pydev_bundle/pydev_monkey.py:814\u001b[0m, in \u001b[0;36mcreate_fork_exec.<locals>.new_fork_exec\u001b[0;34m(args, *other_args)\u001b[0m\n\u001b[1;32m    <a href='file:///home/agustin/.virtualenvs/metnum/lib/python3.9/site-packages/debugpy/_vendored/pydevd/_pydev_bundle/pydev_monkey.py?line=810'>811</a>\u001b[0m     args \u001b[39m=\u001b[39m patch_args(args)\n\u001b[1;32m    <a href='file:///home/agustin/.virtualenvs/metnum/lib/python3.9/site-packages/debugpy/_vendored/pydevd/_pydev_bundle/pydev_monkey.py?line=811'>812</a>\u001b[0m     send_process_created_message()\n\u001b[0;32m--> <a href='file:///home/agustin/.virtualenvs/metnum/lib/python3.9/site-packages/debugpy/_vendored/pydevd/_pydev_bundle/pydev_monkey.py?line=813'>814</a>\u001b[0m \u001b[39mreturn\u001b[39;00m \u001b[39mgetattr\u001b[39;49m(_posixsubprocess, original_name)(args, \u001b[39m*\u001b[39;49mother_args)\n",
      "\u001b[0;31mTypeError\u001b[0m: expected str, bytes or os.PathLike object, not int"
     ]
    }
   ],
   "source": [
    "columnas = [\"entrada\", \"salida\", \"metodo\", \"tiempo\"];\n",
    "filas = [];\n",
    "numero = 1\n",
    "T = 5 # Numero de veces que se ejecuta cada experimento (para mayor fidelidad del tiempo).\n",
    "for experimento in experimentos:\n",
    "    # Voy mostrando que experimento se esta ejecutando.\n",
    "    clear_output(wait=True)\n",
    "    display('Experimento: ' + str(numero) + \"/\" + str(len(experimentos)))\n",
    "    numero += 1\n",
    "    \n",
    "    # Ejecutamos el experimento T veces y obtenemos la mediana.\n",
    "    tiempos = []    \n",
    "    for i in range(0, T):\n",
    "        tiempo = correr_experimento(experimento[0], experimento[1], experimento[2])\n",
    "        tiempos.append(tiempo);\n",
    "\n",
    "    tiempo_medio = np.median(tiempos);\n",
    "    filas.append([experimento[0], experimento[1], experimento[2], tiempo_medio]);\n",
    "df_resultado = pd.DataFrame(filas, columns=columnas);\n",
    "df_resultado.to_csv(\"./resultados/resultado.csv\", index=False, header=True);"
   ]
  },
  {
   "cell_type": "code",
   "execution_count": null,
   "metadata": {},
   "outputs": [],
   "source": []
  }
 ],
 "metadata": {
  "interpreter": {
   "hash": "9a31b054e04279503324c370c3c85668a12be1e570cb758b045b7e667bab4a14"
  },
  "kernelspec": {
   "display_name": "Python 3 (ipykernel)",
   "language": "python",
   "name": "python3"
  },
  "language_info": {
   "codemirror_mode": {
    "name": "ipython",
    "version": 3
   },
   "file_extension": ".py",
   "mimetype": "text/x-python",
   "name": "python",
   "nbconvert_exporter": "python",
   "pygments_lexer": "ipython3",
   "version": "3.9.7"
  }
 },
 "nbformat": 4,
 "nbformat_minor": 4
}
