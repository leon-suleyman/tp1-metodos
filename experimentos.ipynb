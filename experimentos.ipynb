{
 "cells": [
  {
   "cell_type": "markdown",
   "metadata": {},
   "source": [
    "# Correr experimentos\n",
    "En este archivo está el código para correr los experimentos y escribir los resultados en archivos CSV.\n",
    "> Los archivos se guardan en la carpeta _resultados_."
   ]
  },
  {
   "cell_type": "code",
   "execution_count": 1,
   "metadata": {},
   "outputs": [],
   "source": [
    "import math, subprocess\n",
    "import pandas as pd\n",
    "import numpy as np\n",
    "from IPython.display import display, clear_output\n",
    "from os import listdir"
   ]
  },
  {
   "cell_type": "markdown",
   "metadata": {},
   "source": [
    "## Creacion de indice para recorrer instancias"
   ]
  },
  {
   "cell_type": "code",
   "execution_count": 2,
   "metadata": {},
   "outputs": [],
   "source": [
    "##ESTO ES DE UN TP ANTERIOR, NO ME ACUERDO BIEN PARA QUE ESTABA\n",
    "##ESTO ES MEDIO FEO PERO ANDA, NO TOCAR##\n",
    "\n",
    "filas_indice = []\n",
    "\n",
    "instancias = listdir('./instancias')\n",
    "instancias = sorted(instancias)\n",
    "\n",
    "i = 6\n",
    "\n",
    "tipo = \"IN\"\n",
    "for instancia in instancias:  \n",
    "    if 'CMI' in instancia:\n",
    "        if i > 26:\n",
    "            n = int(F\"{instancia[5]}\")\n",
    "        else:\n",
    "            n = int(F\"{instancia[5]}{instancia[6]}\")\n",
    "            \n",
    "        filas_indice.append([instancia, n, tipo])\n",
    "        if tipo == \"IN\":\n",
    "            tipo = \"OUT\"\n",
    "        else:\n",
    "            i = i+2\n",
    "            tipo = \"IN\"\n",
    "filas_indice.sort(key=lambda x: x[1])\n",
    "pd.DataFrame(filas_indice, columns=[\"instancia\", \"n\", \"IN/OUT\"]).to_csv(\"./instancias/indice.csv\", index=False, header=True)"
   ]
  },
  {
   "cell_type": "markdown",
   "metadata": {},
   "source": [
    "A continuación leemos los datasets en dataframes de Pandas."
   ]
  },
  {
   "cell_type": "code",
   "execution_count": 3,
   "metadata": {},
   "outputs": [],
   "source": [
    "def leer_instancia(path_instancia):\n",
    "    with open(path_instancia, \"r\") as f:\n",
    "        return f.read()\n",
    "\n",
    "\n",
    "df_todas = pd.read_csv(\"./instancias/indice.csv\")\n",
    "\n",
    "df_todas_in = df_todas[df_todas[\"IN/OUT\"] == \"IN\"]\n",
    "df_todas_out = df_todas[df_todas[\"IN/OUT\"] == \"OUT\"]\n"
   ]
  },
  {
   "cell_type": "markdown",
   "metadata": {},
   "source": [
    "La siguiente función sirve para correr el código sobre una instancia ejecutando un método en particular.\n"
   ]
  },
  {
   "cell_type": "code",
   "execution_count": 4,
   "metadata": {},
   "outputs": [],
   "source": [
    "def correr_experimento(archivo_entrada, archivo_salida, metodo):\n",
    "    # Crear proceso para ejecutar el codigo.\n",
    "    process = subprocess.Popen([\"./build/tp1\", archivo_entrada, archivo_salida, metodo], stderr=subprocess.PIPE, stdout=subprocess.PIPE, stdin=subprocess.PIPE, universal_newlines = True)\n",
    "\n",
    "    # Poner la instancia en la entrada estandar y leer salida de STDERR con el tiempo de ejecución.\n",
    "    clog = process.communicate()[1] # communicate() devuelve una tupla (stdout, stderr)\n",
    "\n",
    "    tiempo_de_ejecucion = str.splitlines(clog)[0]\n",
    "    #print(clog)\n",
    "\n",
    "    # Correr experimento.\n",
    "    exit_code = process.wait()\n",
    "\n",
    "    # Verificar que el proceso no fallo.\n",
    "    if exit_code != 0: raise(F\"Hubo un error en la experimentacion con el metodo {'EG' if metodo == 0 else 'LU'} sobre la instancia {archivo_entrada}.\")\n",
    "    return float(tiempo_de_ejecucion)"
   ]
  },
  {
   "cell_type": "markdown",
   "metadata": {},
   "source": [
    "Creadores de Instancias"
   ]
  },
  {
   "cell_type": "code",
   "execution_count": 5,
   "metadata": {},
   "outputs": [],
   "source": [
    "def instancia_uniforme(numDeAngulos, iso):\n",
    "    return np.random.uniform(0, iso-1, numDeAngulos)\n",
    "\n",
    "def instancia_normal(numDeAngulos, iso):\n",
    "    temperaturasExternas = np.zeros(numDeAngulos)\n",
    "    numDeTemperaturas = 0\n",
    "    while numDeTemperaturas < numDeAngulos :\n",
    "        temperaturaRandom = np.random.normal(iso/2, 100)\n",
    "        if temperaturaRandom >= 0 and temperaturaRandom < iso : \n",
    "            temperaturasExternas[numDeTemperaturas] = temperaturaRandom\n",
    "            numDeTemperaturas = numDeTemperaturas +1\n",
    "    return temperaturasExternas\n",
    "\n",
    "def crear_archivo_con_instacia (tipoDeInstancia, nombreArchivo, paredInterna, paredExterna, numDeAngulos, numDeRadios, iso, numDeInstancias):\n",
    "    \n",
    "    with open(\"./instancias/\" + nombreArchivo, 'w') as f: #abrimos el archivo\n",
    "        #escribimos los datos del principio del archivo\n",
    "        f.write(str(paredInterna)+\" \"+str(paredExterna)+\" \"+str(numDeAngulos)+\" \"+str(numDeRadios)+\" \"+str(iso)+\" \"+str(numDeInstancias)+\"\\n\")\n",
    "        #creamos las temperaturas externas y las escribimos junto con las temperaturas internas\n",
    "        for i in range(0, numDeInstancias):\n",
    "\n",
    "            instancias = np.empty(numDeAngulos)\n",
    "            if tipoDeInstancia == 0 :\n",
    "                instancias = instancia_uniforme(numDeAngulos, iso)\n",
    "            elif tipoDeInstancia == 1 :\n",
    "                instancias = instancia_normal(numDeAngulos, iso)\n",
    "            else:\n",
    "                break\n",
    "\n",
    "            for j in range(0, numDeAngulos) :\n",
    "                f.write(\"1500 \")\n",
    "            for temperatura in instancias :\n",
    "                f.write(str(temperatura)+\" \")\n",
    "            f.write(\"\\n\")\n"
   ]
  },
  {
   "cell_type": "markdown",
   "metadata": {},
   "source": [
    "## Corremos los experimentos\n",
    "Vamos a guardar una tabla con las ejecuciones y sus respectivos tiempos."
   ]
  },
  {
   "cell_type": "code",
   "execution_count": 14,
   "metadata": {},
   "outputs": [],
   "source": [
    "\n",
    "#Guardar aquí un vector [archivo_entrada, archivo_salida, metodo (0 o 1)] por cada experimento a correr\n",
    "def cargarExperiementos(tipoDeInstancia, variante):\n",
    "    exps=[]\n",
    "    instancias = listdir(f\"instancias/{tipoDeInstancia}\")\n",
    "    if variante == \"EG\":\n",
    "        exps = [[f\"{instancia}\", f\"${instancia}-out\", 0] for instancia in instancias]\n",
    "    elif variante == \"LU\":\n",
    "        exps = [[f\"{instancia}\", f\"${instancia}-out\", 1] for instancia in instancias]\n",
    "    elif variante == \"ALL\":\n",
    "        exps = cargarExperimentos(tipodeInstancia, \"EG\").append(cargarExperimentos(tipodeInstancia, \"LU\"))\n",
    "    return exps"
   ]
  },
  {
   "cell_type": "code",
   "execution_count": null,
   "metadata": {},
   "outputs": [],
   "source": [
    "experimentos = [];"
   ]
  },
  {
   "cell_type": "markdown",
   "metadata": {},
   "source": [
    "## Experimento 1\n",
    "\n"
   ]
  },
  {
   "cell_type": "code",
   "execution_count": null,
   "metadata": {},
   "outputs": [],
   "source": [
    "experimentos.append([\"./instancias/testInput.txt\", \"./resultados/testOutput.txt\", \"0\"])"
   ]
  },
  {
   "cell_type": "markdown",
   "metadata": {},
   "source": [
    "## Experimento 2\n",
    "\n"
   ]
  },
  {
   "cell_type": "code",
   "execution_count": null,
   "metadata": {},
   "outputs": [],
   "source": []
  },
  {
   "cell_type": "markdown",
   "metadata": {},
   "source": [
    "## Experimento 3\n",
    "\n"
   ]
  },
  {
   "cell_type": "code",
   "execution_count": null,
   "metadata": {},
   "outputs": [],
   "source": []
  },
  {
   "cell_type": "markdown",
   "metadata": {},
   "source": [
    "## Ejecutar los experimentos y guardar los resultados en un archivo CSV.\n",
    "Este paso puede tardar unos minutos hasta terminar de ejecutarse."
   ]
  },
  {
   "cell_type": "code",
   "execution_count": null,
   "metadata": {},
   "outputs": [
    {
     "data": {
      "text/plain": [
       "'Experimento: 1/1'"
      ]
     },
     "metadata": {},
     "output_type": "display_data"
    }
   ],
   "source": [
    "columnas = [\"entrada\", \"salida\", \"metodo\", \"tiempo\"];\n",
    "filas = [];\n",
    "numero = 1\n",
    "T = 5 # Numero de veces que se ejecuta cada experimento (para mayor fidelidad del tiempo).\n",
    "for experimento in experimentos:\n",
    "    # Voy mostrando que experimento se esta ejecutando.\n",
    "    clear_output(wait=True)\n",
    "    display('Experimento: ' + str(numero) + \"/\" + str(len(experimentos)))\n",
    "    numero += 1\n",
    "    \n",
    "    # Ejecutamos el experimento T veces y obtenemos la mediana.\n",
    "    tiempos = []    \n",
    "    for i in range(0, T):\n",
    "        tiempo = correr_experimento(experimento[0], experimento[1], experimento[2])\n",
    "        tiempos.append(tiempo);\n",
    "\n",
    "    tiempo_medio = np.median(tiempos);\n",
    "    filas.append([experimento[0], experimento[1], experimento[2], tiempo_medio]);\n",
    "df_resultado = pd.DataFrame(filas, columns=columnas);\n",
    "df_resultado.to_csv(\"./resultados/resultado.csv\", index=False, header=True);"
   ]
  },
  {
   "cell_type": "code",
   "execution_count": null,
   "metadata": {},
   "outputs": [],
   "source": []
  }
 ],
 "metadata": {
  "interpreter": {
   "hash": "9a31b054e04279503324c370c3c85668a12be1e570cb758b045b7e667bab4a14"
  },
  "kernelspec": {
   "display_name": "Python 3 (ipykernel)",
   "language": "python",
   "name": "python3"
  },
  "language_info": {
   "codemirror_mode": {
    "name": "ipython",
    "version": 3
   },
   "file_extension": ".py",
   "mimetype": "text/x-python",
   "name": "python",
   "nbconvert_exporter": "python",
   "pygments_lexer": "ipython3",
   "version": "3.8.10"
  }
 },
 "nbformat": 4,
 "nbformat_minor": 4
}
