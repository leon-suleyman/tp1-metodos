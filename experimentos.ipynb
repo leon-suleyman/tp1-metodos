{
 "cells": [
  {
   "cell_type": "markdown",
   "metadata": {},
   "source": [
    "# Correr experimentos\n",
    "En este archivo está el código para correr los experimentos y escribir los resultados en archivos CSV.\n",
    "> Los archivos se guardan en la carpeta _resultados_."
   ]
  },
  {
   "cell_type": "code",
   "execution_count": 2,
   "metadata": {},
   "outputs": [],
   "source": [
    "import math, subprocess\n",
    "import pandas as pd\n",
    "import numpy as np\n",
    "from IPython.display import display, clear_output\n",
    "from os import listdir"
   ]
  },
  {
   "cell_type": "markdown",
   "metadata": {},
   "source": [
    "## Creacion de indice para recorrer instancias"
   ]
  },
  {
   "cell_type": "code",
   "execution_count": 3,
   "metadata": {},
   "outputs": [],
   "source": [
    "##ESTO ES DE UN TP ANTERIOR, NO ME ACUERDO BIEN PARA QUE ESTABA\n",
    "##ESTO ES MEDIO FEO PERO ANDA, NO TOCAR##\n",
    "\n",
    "filas_indice = []\n",
    "\n",
    "instancias = listdir('./instancias')\n",
    "instancias = sorted(instancias)\n",
    "\n",
    "i = 6\n",
    "\n",
    "tipo = \"IN\"\n",
    "for instancia in instancias:  \n",
    "    if 'CMI' in instancia:\n",
    "        if i > 26:\n",
    "            n = int(F\"{instancia[5]}\")\n",
    "        else:\n",
    "            n = int(F\"{instancia[5]}{instancia[6]}\")\n",
    "            \n",
    "        filas_indice.append([instancia, n, tipo])\n",
    "        if tipo == \"IN\":\n",
    "            tipo = \"OUT\"\n",
    "        else:\n",
    "            i = i+2\n",
    "            tipo = \"IN\"\n",
    "filas_indice.sort(key=lambda x: x[1])\n",
    "pd.DataFrame(filas_indice, columns=[\"instancia\", \"n\", \"IN/OUT\"]).to_csv(\"./instancias/indice.csv\", index=False, header=True)"
   ]
  },
  {
   "cell_type": "markdown",
   "metadata": {},
   "source": [
    "A continuación leemos los datasets en dataframes de Pandas."
   ]
  },
  {
   "cell_type": "code",
   "execution_count": 4,
   "metadata": {},
   "outputs": [],
   "source": [
    "def leer_instancia(path_instancia):\n",
    "    with open(path_instancia, \"r\") as f:\n",
    "        return f.read()\n",
    "\n",
    "\n",
    "df_todas = pd.read_csv(\"./instancias/indice.csv\")\n",
    "\n",
    "df_todas_in = df_todas[df_todas[\"IN/OUT\"] == \"IN\"]\n",
    "df_todas_out = df_todas[df_todas[\"IN/OUT\"] == \"OUT\"]\n"
   ]
  },
  {
   "cell_type": "markdown",
   "metadata": {},
   "source": [
    "La siguiente función sirve para correr el código sobre una instancia ejecutando un método en particular.\n"
   ]
  },
  {
   "cell_type": "code",
   "execution_count": 5,
   "metadata": {},
   "outputs": [],
   "source": [
    "def correr_experimento(archivo_entrada, archivo_salida, metodo):\n",
    "    # Crear proceso para ejecutar el codigo.\n",
    "    process = subprocess.Popen([\"./build/tp1\", archivo_entrada, archivo_salida, metodo], stderr=subprocess.PIPE, stdout=subprocess.PIPE, stdin=subprocess.PIPE, universal_newlines = True)\n",
    "\n",
    "    # Poner la instancia en la entrada estandar y leer salida de STDERR con el tiempo de ejecución.\n",
    "    stdout, stderr = process.communicate() # communicate() devuelve una tupla (stdout, stderr)\n",
    "\n",
    "    tiempo_de_ejecucion = str.splitlines(stderr)[0]\n",
    "    #print(clog)\n",
    "\n",
    "    # Correr experimento.\n",
    "    exit_code = process.wait()\n",
    "\n",
    "    # Verificar que el proceso no fallo.\n",
    "    if exit_code != 0: raise(F\"Hubo un error en la experimentacion con el metodo {'EG' if metodo == 0 else 'LU'} sobre la instancia {archivo_entrada}.\")\n",
    "    return float(tiempo_de_ejecucion)"
   ]
  },
  {
   "cell_type": "markdown",
   "metadata": {},
   "source": [
    "Creadores de Instancias"
   ]
  },
  {
   "cell_type": "code",
   "execution_count": 15,
   "metadata": {},
   "outputs": [],
   "source": [
    "def instancia_ideal(n, ninst):\n",
    "    return [[50 for _ in range(n)] for _ in range(ninst)]\n",
    "\n",
    "def instancia_intercalada(n, ninst):\n",
    "    instancias = []\n",
    "    for _ in range(ninst):\n",
    "        temperaturas = []\n",
    "        for i in range(n):\n",
    "            if i % 2 == 0:\n",
    "                temperaturas.append(50)\n",
    "            else:\n",
    "                temperaturas.append(200)\n",
    "        instancias.append(temperaturas)   \n",
    "    return instancias\n",
    "\n",
    "def instancia_live(n, ninst):\n",
    "    instancias = [[100 for _ in range(n)]]\n",
    "    for i in range(ninst):\n",
    "        instancias.append(np.absolute(instancias[i] + np.random.normal(0, 15, n)))\n",
    "    return instancias\n",
    "\n",
    "\n",
    "def crear_archivo_con_instacia (tipoDeInstancia, nombreArchivo, paredInterna, paredExterna, numDeRadios, numDeAngulos, iso, numDeInstancias):\n",
    "    \n",
    "    with open(f\"./instancias/{tipoDeInstancia}/{nombreArchivo}\", 'w') as f: #abrimos el archivo\n",
    "        #escribimos los datos del principio del archivo\n",
    "        f.write(str(paredInterna)+\" \"+str(paredExterna)+\" \"+str(numDeRadios)+\" \"+str(numDeAngulos)+\" \"+str(iso)+\" \"+str(numDeInstancias)+\"\\n\")\n",
    "        #creamos las temperaturas externas y las escribimos junto con las temperaturas internas\n",
    "        \n",
    "        instancias = []\n",
    "        if tipoDeInstancia == 'instancia_ideal' :\n",
    "            instancias = instancia_ideal(numDeAngulos, numDeInstancias)\n",
    "        elif tipoDeInstancia == 'instancia_intercalada' :\n",
    "            instancias = instancia_intercalada(numDeAngulos, numDeInstancias)\n",
    "        elif tipoDeInstancia == \"instancia_live\" :\n",
    "            instancias = instancia_live(numDeAngulos, numDeInstancias)\n",
    "        \n",
    "        for inst in instancias:\n",
    "            for _ in range(0, numDeAngulos) :\n",
    "                f.write(\"1500 \")\n",
    "            for temperatura in inst :\n",
    "                f.write(str(temperatura)+\" \")\n",
    "            f.write(\"\\n\")\n"
   ]
  },
  {
   "cell_type": "code",
   "execution_count": 119,
   "metadata": {},
   "outputs": [],
   "source": [
    "for cantAngulos in range(5,55,5):\n",
    "    for cantRadios in range(5,55,5):\n",
    "        crear_archivo_con_instacia(\"instancia_ideal\", f\"{cantRadios}X{cantAngulos}.in\", 10, 100, cantRadios, cantAngulos, 500, 1)\n",
    "\n",
    "for cantAngulos in range(5,55,5):\n",
    "    for cantRadios in range(5,55,5):\n",
    "        crear_archivo_con_instacia(\"instancia_intercalada\", f\"{cantRadios}X{cantAngulos}.in\", 10, 100, cantRadios, cantAngulos, 500, 1)\n"
   ]
  },
  {
   "cell_type": "code",
   "execution_count": 16,
   "metadata": {},
   "outputs": [],
   "source": [
    "for cantInst in range(5,35,5):\n",
    "    crear_archivo_con_instacia(\"instancia_live\", f\"LIVE_{cantInst}.in\", 10, 100, 20, 20, 500, cantInst)"
   ]
  },
  {
   "cell_type": "markdown",
   "metadata": {},
   "source": [
    "## Corremos los experimentos\n",
    "Vamos a guardar una tabla con las ejecuciones y sus respectivos tiempos."
   ]
  },
  {
   "cell_type": "code",
   "execution_count": 120,
   "metadata": {},
   "outputs": [],
   "source": [
    "\n",
    "#Guardar aquí un vector [archivo_entrada, archivo_salida, metodo (0 o 1)] por cada experimento a correr\n",
    "def cargarExperimentos(tipoDeInstancia, variante):\n",
    "    exps=[]\n",
    "    instancias = listdir(f\"instancias/{tipoDeInstancia}\")\n",
    "    if variante == \"EG\":\n",
    "        exps = [[f\"instancias/{tipoDeInstancia}/{instancia}\", f\"resultados/{tipoDeInstancia}/{instancia.split('.')[0]}.out\", \"0\"] for instancia in instancias]\n",
    "    elif variante == \"LU\":\n",
    "        exps = [[f\"instancias/{tipoDeInstancia}/{instancia}\", f\"resultados/{tipoDeInstancia}/{instancia.split('.')[0]}.out\", \"1\"] for instancia in instancias]\n",
    "    elif variante == \"ALL\":\n",
    "        exps = cargarExperimentos(tipoDeInstancia, \"EG\").extend(cargarExperimentos(tipoDeInstancia, \"LU\"))\n",
    "    return exps"
   ]
  },
  {
   "cell_type": "code",
   "execution_count": 121,
   "metadata": {},
   "outputs": [],
   "source": [
    "experimentos = [];"
   ]
  },
  {
   "cell_type": "markdown",
   "metadata": {},
   "source": [
    "## Experimento 1\n",
    "\n"
   ]
  },
  {
   "cell_type": "code",
   "execution_count": 122,
   "metadata": {},
   "outputs": [],
   "source": [
    "experimentos.extend(cargarExperimentos(\"instancia_ideal\", \"EG\"))\n"
   ]
  },
  {
   "cell_type": "markdown",
   "metadata": {},
   "source": [
    "## Experimento 2\n",
    "\n"
   ]
  },
  {
   "cell_type": "code",
   "execution_count": null,
   "metadata": {},
   "outputs": [],
   "source": []
  },
  {
   "cell_type": "markdown",
   "metadata": {},
   "source": [
    "## Experimento 3\n",
    "\n"
   ]
  },
  {
   "cell_type": "code",
   "execution_count": null,
   "metadata": {},
   "outputs": [],
   "source": []
  },
  {
   "cell_type": "markdown",
   "metadata": {},
   "source": [
    "## Ejecutar los experimentos y guardar los resultados en un archivo CSV.\n",
    "Este paso puede tardar unos minutos hasta terminar de ejecutarse."
   ]
  },
  {
   "cell_type": "code",
   "execution_count": 123,
   "metadata": {},
   "outputs": [
    {
     "data": {
      "text/plain": [
       "'Experimento: 100/100'"
      ]
     },
     "metadata": {},
     "output_type": "display_data"
    }
   ],
   "source": [
    "columnas = [\"entrada\", \"salida\", \"metodo\", \"tiempo\"];\n",
    "filas = [];\n",
    "numero = 1\n",
    "T = 5 # Numero de veces que se ejecuta cada experimento (para mayor fidelidad del tiempo).\n",
    "for experimento in experimentos:\n",
    "    # Voy mostrando que experimento se esta ejecutando.\n",
    "    clear_output(wait=True)\n",
    "    display('Experimento: ' + str(numero) + \"/\" + str(len(experimentos)))\n",
    "    numero += 1\n",
    "    \n",
    "    # Ejecutamos el experimento T veces y obtenemos la mediana.\n",
    "    tiempos = []    \n",
    "    for i in range(0, T):\n",
    "        tiempo = correr_experimento(experimento[0], experimento[1], experimento[2])\n",
    "        tiempos.append(tiempo);\n",
    "\n",
    "    tiempo_medio = np.median(tiempos);\n",
    "    filas.append([experimento[0], experimento[1], experimento[2], tiempo_medio]);\n",
    "df_resultado = pd.DataFrame(filas, columns=columnas);\n",
    "df_resultado.to_csv(\"./resultados/resultado.csv\", index=False, header=True);"
   ]
  },
  {
   "cell_type": "code",
   "execution_count": null,
   "metadata": {},
   "outputs": [],
   "source": []
  }
 ],
 "metadata": {
  "interpreter": {
   "hash": "9a31b054e04279503324c370c3c85668a12be1e570cb758b045b7e667bab4a14"
  },
  "kernelspec": {
   "display_name": "Python 3 (ipykernel)",
   "language": "python",
   "name": "python3"
  },
  "language_info": {
   "codemirror_mode": {
    "name": "ipython",
    "version": 3
   },
   "file_extension": ".py",
   "mimetype": "text/x-python",
   "name": "python",
   "nbconvert_exporter": "python",
   "pygments_lexer": "ipython3",
   "version": "3.8.10"
  }
 },
 "nbformat": 4,
 "nbformat_minor": 4
}
